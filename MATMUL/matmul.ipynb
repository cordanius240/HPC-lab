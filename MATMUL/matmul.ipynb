{
  "nbformat": 4,
  "nbformat_minor": 0,
  "metadata": {
    "colab": {
      "provenance": [],
      "toc_visible": true,
      "gpuType": "T4"
    },
    "kernelspec": {
      "name": "python3",
      "display_name": "Python 3"
    },
    "language_info": {
      "name": "python"
    },
    "accelerator": "GPU"
  },
  "cells": [
    {
      "cell_type": "code",
      "source": [
        "!nvcc --version\n",
        "!pip install git+https://github.com/andreinechaev/nvcc4jupyter.git\n",
        "%load_ext nvcc_plugin"
      ],
      "metadata": {
        "colab": {
          "base_uri": "https://localhost:8080/"
        },
        "id": "LrZRO6nD-VsX",
        "outputId": "65fc7e4f-0078-4f10-c15a-18db29f350ae"
      },
      "execution_count": 1,
      "outputs": [
        {
          "output_type": "stream",
          "name": "stdout",
          "text": [
            "nvcc: NVIDIA (R) Cuda compiler driver\n",
            "Copyright (c) 2005-2022 NVIDIA Corporation\n",
            "Built on Wed_Sep_21_10:33:58_PDT_2022\n",
            "Cuda compilation tools, release 11.8, V11.8.89\n",
            "Build cuda_11.8.r11.8/compiler.31833905_0\n",
            "Collecting git+https://github.com/andreinechaev/nvcc4jupyter.git\n",
            "  Cloning https://github.com/andreinechaev/nvcc4jupyter.git to /tmp/pip-req-build-26aoo7io\n",
            "  Running command git clone --filter=blob:none --quiet https://github.com/andreinechaev/nvcc4jupyter.git /tmp/pip-req-build-26aoo7io\n",
            "  Resolved https://github.com/andreinechaev/nvcc4jupyter.git to commit 0a71d56e5dce3ff1f0dd2c47c29367629262f527\n",
            "  Preparing metadata (setup.py) ... \u001b[?25l\u001b[?25hdone\n",
            "Building wheels for collected packages: NVCCPlugin\n",
            "  Building wheel for NVCCPlugin (setup.py) ... \u001b[?25l\u001b[?25hdone\n",
            "  Created wheel for NVCCPlugin: filename=NVCCPlugin-0.0.2-py3-none-any.whl size=4293 sha256=a9aaf2e97725d13b92c11f803e8ef9b999a3cca85c0420e75155c3c71003c041\n",
            "  Stored in directory: /tmp/pip-ephem-wheel-cache-s3m1n33p/wheels/a8/b9/18/23f8ef71ceb0f63297dd1903aedd067e6243a68ea756d6feea\n",
            "Successfully built NVCCPlugin\n",
            "Installing collected packages: NVCCPlugin\n",
            "Successfully installed NVCCPlugin-0.0.2\n",
            "created output directory at /content/src\n",
            "Out bin /content/result.out\n"
          ]
        }
      ]
    },
    {
      "cell_type": "code",
      "source": [
        "!/usr/local/cuda/bin/nvcc --version\n",
        "#!pip install --upgrade git+https://github.com/frehseg/nvcc4jupyter.git\n",
        "!pip install git+https://github.com/andreinechaev/nvcc4jupyter.git\n",
        "%load_ext nvcc_plugin\n",
        "!cuda-install-samples-11.2.sh ~ && cd /root/NVIDIA_CUDA-11.2_Samples/"
      ],
      "metadata": {
        "colab": {
          "base_uri": "https://localhost:8080/"
        },
        "id": "opsZsVGY-YDI",
        "outputId": "f82e3eed-d866-49e4-d18f-5231f198da35"
      },
      "execution_count": 2,
      "outputs": [
        {
          "output_type": "stream",
          "name": "stdout",
          "text": [
            "nvcc: NVIDIA (R) Cuda compiler driver\n",
            "Copyright (c) 2005-2022 NVIDIA Corporation\n",
            "Built on Wed_Sep_21_10:33:58_PDT_2022\n",
            "Cuda compilation tools, release 11.8, V11.8.89\n",
            "Build cuda_11.8.r11.8/compiler.31833905_0\n",
            "Collecting git+https://github.com/andreinechaev/nvcc4jupyter.git\n",
            "  Cloning https://github.com/andreinechaev/nvcc4jupyter.git to /tmp/pip-req-build-xnpmu7q9\n",
            "  Running command git clone --filter=blob:none --quiet https://github.com/andreinechaev/nvcc4jupyter.git /tmp/pip-req-build-xnpmu7q9\n",
            "  Resolved https://github.com/andreinechaev/nvcc4jupyter.git to commit 0a71d56e5dce3ff1f0dd2c47c29367629262f527\n",
            "  Preparing metadata (setup.py) ... \u001b[?25l\u001b[?25hdone\n",
            "The nvcc_plugin extension is already loaded. To reload it, use:\n",
            "  %reload_ext nvcc_plugin\n",
            "/bin/bash: line 1: cuda-install-samples-11.2.sh: command not found\n"
          ]
        }
      ]
    },
    {
      "cell_type": "code",
      "execution_count": 3,
      "metadata": {
        "colab": {
          "base_uri": "https://localhost:8080/",
          "height": 36
        },
        "id": "Vh3tlX51-Kuo",
        "outputId": "94f9e818-1604-4464-f659-61f0c4084f72"
      },
      "outputs": [
        {
          "output_type": "execute_result",
          "data": {
            "text/plain": [
              "'File written in /content/src/my_curand.cu'"
            ],
            "application/vnd.google.colaboratory.intrinsic+json": {
              "type": "string"
            }
          },
          "metadata": {},
          "execution_count": 3
        }
      ],
      "source": [
        "%%cuda --name my_curand.cu\n",
        "#include <stdio.h>\n",
        "#include <stdlib.h>\n",
        "#include <string.h>\n",
        "#include <time.h>\n",
        "#include <cuda_runtime.h>\n",
        "#include <cublas_v2.h>\n",
        "#include <cstdlib>\n",
        "#include <malloc.h>\n",
        "#include <curand.h>\n",
        "void mult_cpu(float* A, float* B, float* C, int nA, int nB) {\n",
        "    for (int i = 0; i < nA; ++i) {\n",
        "        for (int j = 0; j < nB; ++j) {\n",
        "            for (int k = 0; k < nB; ++k)\n",
        "                C[i * nB + j] += A[i * nB + k] * B[k * nB + j];\n",
        "        }\n",
        "    }\n",
        "}\n",
        "// GPU_fill_rand() - Функция случайной генерации матрицы\n",
        "// Заполнить массив A(nr_rows_A, nr_cols_A) случайными числами на графическом процессоре\n",
        "void GPU_fill_rand(float* A, int nr_rows_A, int nr_cols_A) {\n",
        "    // Создание генератора псевдо-рандомных чисел\n",
        "    curandGenerator_t prng;\n",
        "    curandCreateGenerator(&prng, CURAND_RNG_PSEUDO_DEFAULT);\n",
        "\n",
        "    // Установка сида для генератора\n",
        "    curandSetPseudoRandomGeneratorSeed(prng, (unsigned long long) clock());\n",
        "\n",
        "    // Заполнение матрицы случайными числами\n",
        "    curandGenerateUniform(prng, A, nr_rows_A * nr_cols_A);\n",
        "}\n",
        "\n",
        "// gpu_blas_mmul() - Функция умножения матриц\n",
        "// Перемножение матриц А и В с сохранением результата в матрице С\n",
        "// C(m,n) = A(m,k) * B(k,n)\n",
        "void gpu_blas_mmul(const float* A, const float* B, float* C, const int m, const int k, const int n) {\n",
        "    int lda = m, ldb = k, ldc = m;\n",
        "    const float alf = 1;\n",
        "    const float bet = 0;\n",
        "    const float* alpha = &alf;\n",
        "    const float* beta = &bet;\n",
        "    // Create a handle for CUBLAS\n",
        "    cublasHandle_t handle;\n",
        "    cublasCreate(&handle);\n",
        "    // Do the actual multiplication\n",
        "    cublasSgemm(handle, CUBLAS_OP_N, CUBLAS_OP_N, m, n, k, alpha, A, lda, B, ldb, beta, C, ldc);\n",
        "    // Destroy the handle\n",
        "    cublasDestroy(handle);\n",
        "}\n",
        "\n",
        "//print_matrix() - Функция вывода матрицы\n",
        "void print_matrix(float* matrix, int rows, int cols) {\n",
        "\n",
        "    printf(\"%f\\t*\\t*\\t*\\t%f\\n\", matrix[0], matrix[rows * (rows - 1)]);\n",
        "    printf(\"*\\t*\\t*\\t*\\t*\\t*\\n\");\n",
        "    printf(\"%f\\t*\\t*\\t*\\t%f\\n\", matrix[rows], matrix[cols * rows - 1]);\n",
        "    printf(\"\\n\");\n",
        "\n",
        "}\n",
        "\n",
        "int main() {\n",
        "    // Выделяем 3 массива на хосте\n",
        "    int nr_rows_A, nr_cols_A, nr_rows_B, nr_cols_B, nr_rows_C, nr_cols_C;\n",
        "    cudaEvent_t start, end;\n",
        "    float time = 0.0f;\n",
        "    cudaEventCreate(&start);\n",
        "    cudaEventCreate(&end);\n",
        "\n",
        "    // Используются квадратные матрицы\n",
        "    nr_rows_A = nr_cols_A = nr_rows_B = nr_cols_B = nr_rows_C = nr_cols_C = 2000;\n",
        "\n",
        "    printf(\"float\\nn = %d\\n\\n\", nr_rows_A);\n",
        "\n",
        "    float* h_A = (float*)malloc(nr_rows_A * nr_cols_A * sizeof(float));\n",
        "    float* h_B = (float*)malloc(nr_rows_B * nr_cols_B * sizeof(float));\n",
        "    float* h_C = (float*)malloc(nr_rows_C * nr_cols_C * sizeof(float));\n",
        "\n",
        "    // Выделяем 3 массива на девайсе\n",
        "    float* d_A, * d_B, * d_C;\n",
        "    cudaMalloc(&d_A, nr_rows_A * nr_cols_A * sizeof(float));\n",
        "    cudaMalloc(&d_B, nr_rows_B * nr_cols_B * sizeof(float));\n",
        "    cudaMalloc(&d_C, nr_rows_C * nr_cols_C * sizeof(float));\n",
        "\n",
        "    // Заполняем матрицы А и В случайными числами\n",
        "    GPU_fill_rand(d_A, nr_rows_A, nr_cols_A);\n",
        "    GPU_fill_rand(d_B, nr_rows_B, nr_cols_B);\n",
        "\n",
        "    // Можно скопировать их на хост, чтобы вывести их\n",
        "    cudaMemcpy(h_A, d_A, nr_rows_A * nr_cols_A * sizeof(float), cudaMemcpyDeviceToHost);\n",
        "    cudaMemcpy(h_B, d_B, nr_rows_B * nr_cols_B * sizeof(float), cudaMemcpyDeviceToHost);\n",
        "    printf(\"A =\\n\");\n",
        "    print_matrix(h_A, nr_rows_A, nr_cols_A);\n",
        "    printf(\"B =\\n\");\n",
        "    print_matrix(h_B, nr_rows_B, nr_cols_B);\n",
        "\n",
        "\n",
        "    cudaEventRecord(start, 0);\n",
        "    // Умножаем матрицы А и В на GPU\n",
        "    gpu_blas_mmul(d_A, d_B, d_C, nr_rows_A, nr_cols_A, nr_cols_B);\n",
        "    cudaEventRecord(end, 0);\n",
        "    // Копируем на хост и выводим результат умножения матриц\n",
        "    cudaMemcpy(h_C, d_C, nr_rows_C * nr_cols_C * sizeof(float), cudaMemcpyDeviceToHost);\n",
        "    printf(\"C =\\n\");\n",
        "    print_matrix(h_C, nr_rows_C, nr_cols_C);\n",
        "\n",
        "    cudaEventElapsedTime(&time, start, end);\n",
        "    printf(\"GPU Total time: %f\\n\", time / 1000);\n",
        "    unsigned int startcpu =  clock(); // начальное время cpu\n",
        "\n",
        "    mult_cpu(h_A, h_B,  h_C, nr_rows_A, nr_rows_B);\n",
        "\n",
        "    unsigned int endcpu = clock(); // конечное время  cpu\n",
        "    unsigned int timecpu = endcpu - startcpu; // искомое время  cpu\n",
        "    printf(\"СPU mmul\\nTotal time: %f\\n\", (double)timecpu / 1000000);\n",
        "    double acceleration=timecpu/time;\n",
        "    printf(\"Acceleration: %f\\n\", acceleration);\n",
        "    // Освобождаем память на девайсе\n",
        "    cudaFree(d_A);\n",
        "    cudaFree(d_B);\n",
        "    cudaFree(d_C);\n",
        "\n",
        "    // Освобождаем память на хосте\n",
        "    free(h_A);\n",
        "    free(h_B);\n",
        "    free(h_C);\n",
        "    return 0;\n",
        "}\n"
      ]
    },
    {
      "cell_type": "code",
      "source": [
        "!nvcc -o /content/src/my_curand /content/src/my_curand.cu -lcurand -lcublas"
      ],
      "metadata": {
        "id": "xsndIyd7ceiZ"
      },
      "execution_count": 4,
      "outputs": []
    },
    {
      "cell_type": "code",
      "source": [
        "!/content/src/my_curand"
      ],
      "metadata": {
        "colab": {
          "base_uri": "https://localhost:8080/"
        },
        "id": "liRrstXqcf4I",
        "outputId": "2d0d4ca6-342c-48aa-d49d-1b91331a14b6"
      },
      "execution_count": 5,
      "outputs": [
        {
          "output_type": "stream",
          "name": "stdout",
          "text": [
            "float\n",
            "n = 2000\n",
            "\n",
            "A =\n",
            "0.474572\t*\t*\t*\t0.546570\n",
            "*\t*\t*\t*\t*\t*\n",
            "0.344717\t*\t*\t*\t0.619972\n",
            "\n",
            "B =\n",
            "0.359875\t*\t*\t*\t0.670641\n",
            "*\t*\t*\t*\t*\t*\n",
            "0.875423\t*\t*\t*\t0.461416\n",
            "\n",
            "C =\n",
            "497.861237\t*\t*\t*\t489.197815\n",
            "*\t*\t*\t*\t*\t*\n",
            "490.621399\t*\t*\t*\t487.822662\n",
            "\n",
            "GPU Total time: 3.559670\n",
            "СPU mmul\n",
            "Total time: 93.804479\n",
            "Acceleration: 26352.017578\n"
          ]
        }
      ]
    }
  ]
}